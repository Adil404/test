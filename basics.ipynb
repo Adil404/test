{
 "cells": [
  {
   "cell_type": "code",
   "execution_count": null,
   "metadata": {},
   "outputs": [],
   "source": [
    "## python assignment at iNeuron.ai "
   ]
  },
  {
   "cell_type": "code",
   "execution_count": null,
   "metadata": {},
   "outputs": [],
   "source": [
    "# program to print the pattern\n",
    "# 1\n",
    "# 12\n",
    "# 123\n",
    "# 1234\n",
    "def pattern(n):\n",
    "    for i in range(1,n):\n",
    "        for j in range(1,i+1):\n",
    "            print(j,end='')\n",
    "        print('\\r')\n",
    "pattern(5)"
   ]
  },
  {
   "cell_type": "code",
   "execution_count": 6,
   "metadata": {},
   "outputs": [
    {
     "output_type": "error",
     "ename": "NameError",
     "evalue": "name 'i' is not defined",
     "traceback": [
      "\u001b[1;31m---------------------------------------------------------------------------\u001b[0m",
      "\u001b[1;31mNameError\u001b[0m                                 Traceback (most recent call last)",
      "\u001b[1;32m<ipython-input-6-7a35a1c38409>\u001b[0m in \u001b[0;36m<module>\u001b[1;34m\u001b[0m\n\u001b[0;32m      3\u001b[0m         \u001b[1;32mfor\u001b[0m \u001b[0mj\u001b[0m \u001b[1;32min\u001b[0m \u001b[0mrange\u001b[0m\u001b[1;33m(\u001b[0m\u001b[1;33m)\u001b[0m\u001b[1;33m:\u001b[0m\u001b[1;33m\u001b[0m\u001b[1;33m\u001b[0m\u001b[0m\n\u001b[0;32m      4\u001b[0m             \u001b[0mprint\u001b[0m\u001b[1;33m(\u001b[0m\u001b[0mj\u001b[0m\u001b[1;33m)\u001b[0m\u001b[1;33m\u001b[0m\u001b[1;33m\u001b[0m\u001b[0m\n\u001b[1;32m----> 5\u001b[1;33m \u001b[0mprint\u001b[0m\u001b[1;33m(\u001b[0m\u001b[0mi\u001b[0m\u001b[1;33m)\u001b[0m\u001b[1;33m\u001b[0m\u001b[1;33m\u001b[0m\u001b[0m\n\u001b[0m",
      "\u001b[1;31mNameError\u001b[0m: name 'i' is not defined"
     ]
    }
   ],
   "source": [
    "def pattern_1(n):\n",
    "    for i in range(1,n):\n",
    "        for j in range():\n",
    "            print(j)"
   ]
  },
  {
   "cell_type": "code",
   "execution_count": null,
   "metadata": {},
   "outputs": [],
   "source": [
    "# sum of four numbers\n",
    "def sum_four(a,b,c,d):\n",
    "    return a+b+c+d\n",
    "sum_four(1,2,4,5)"
   ]
  },
  {
   "cell_type": "code",
   "execution_count": 16,
   "metadata": {
    "tags": []
   },
   "outputs": [
    {
     "output_type": "stream",
     "name": "stdout",
     "text": [
      "2\n"
     ]
    }
   ],
   "source": [
    "## occurence of a character \n",
    "s = 'adljalk'\n",
    "s1 = 0\n",
    "for i in s:\n",
    "    try:\n",
    "        if i == 'a':\n",
    "            s1 += 1\n",
    "    except:\n",
    "           pass\n",
    "print(s1)"
   ]
  },
  {
   "cell_type": "code",
   "execution_count": 1,
   "metadata": {},
   "outputs": [
    {
     "output_type": "error",
     "ename": "NameError",
     "evalue": "name 'collection' is not defined",
     "traceback": [
      "\u001b[1;31m---------------------------------------------------------------------------\u001b[0m",
      "\u001b[1;31mNameError\u001b[0m                                 Traceback (most recent call last)",
      "\u001b[1;32m<ipython-input-1-20489b7d68dd>\u001b[0m in \u001b[0;36m<module>\u001b[1;34m\u001b[0m\n\u001b[0;32m      2\u001b[0m \u001b[1;33m\u001b[0m\u001b[0m\n\u001b[0;32m      3\u001b[0m vals = [expression \n\u001b[1;32m----> 4\u001b[1;33m         \u001b[1;32mfor\u001b[0m \u001b[0mvalue\u001b[0m \u001b[1;32min\u001b[0m \u001b[0mcollection\u001b[0m\u001b[1;33m\u001b[0m\u001b[1;33m\u001b[0m\u001b[0m\n\u001b[0m\u001b[0;32m      5\u001b[0m         if condition]\n\u001b[0;32m      6\u001b[0m \u001b[1;33m\u001b[0m\u001b[0m\n",
      "\u001b[1;31mNameError\u001b[0m: name 'collection' is not defined"
     ]
    }
   ],
   "source": [
    "# Python's list comprehensions are awesome.\n",
    "\n",
    "vals = [expression \n",
    "        for value in collection \n",
    "        if condition]\n",
    "\n",
    "# This is equivalent to:\n",
    "\n",
    "# vals = []\n",
    "# for value in collection:\n",
    "#     if condition:\n",
    "#         vals.append(expression)\n"
   ]
  },
  {
   "cell_type": "code",
   "execution_count": 7,
   "metadata": {},
   "outputs": [
    {
     "output_type": "execute_result",
     "data": {
      "text/plain": [
       "[0, 2, 4, 6, 8]"
      ]
     },
     "metadata": {},
     "execution_count": 7
    }
   ],
   "source": [
    "vals = []\n",
    "for value in range(0,10):\n",
    "    if not value % 2:\n",
    "        vals.append(value)\n",
    "vals"
   ]
  },
  {
   "cell_type": "code",
   "execution_count": 5,
   "metadata": {},
   "outputs": [
    {
     "output_type": "execute_result",
     "data": {
      "text/plain": [
       "[0, 4, 16, 36, 64]"
      ]
     },
     "metadata": {},
     "execution_count": 5
    }
   ],
   "source": [
    "# Example:\n",
    "even_squares = [x * x for x in range(10) if not x % 2]\n",
    "even_squares\n",
    "# [0, 4, 16, 36, 64]\n"
   ]
  },
  {
   "cell_type": "code",
   "execution_count": 26,
   "metadata": {},
   "outputs": [
    {
     "output_type": "stream",
     "name": "stdout",
     "text": [
      "0 2 4 6 8 "
     ]
    }
   ],
   "source": [
    "lst = list(range(10))\n",
    "for i in lst:\n",
    "    if not i % 2:\n",
    "        print(i, end=' ')"
   ]
  },
  {
   "cell_type": "code",
   "execution_count": 6,
   "metadata": {},
   "outputs": [
    {
     "output_type": "stream",
     "name": "stdout",
     "text": [
      "<built-in method split of str object at 0x000001EE48F2C970>\n"
     ]
    }
   ],
   "source": [
    "n = input('enter your kjkdsj:').split\n",
    "print(n)"
   ]
  },
  {
   "cell_type": "code",
   "execution_count": 17,
   "metadata": {
    "tags": []
   },
   "outputs": [
    {
     "output_type": "stream",
     "name": "stdout",
     "text": [
      "0\n1\n2\n3\n4\n5\n6\n7\n8\n9\n"
     ]
    }
   ],
   "source": [
    "# for i in range(0,10):\n",
    "#     print(i)\n",
    "n = 11 \n",
    "while n > 0:\n",
    "    n -= 1\n",
    "    if n == 0:\n",
    "        for k in range(10):\n",
    "            print(k)    "
   ]
  },
  {
   "source": [
    "### file handling "
   ],
   "cell_type": "markdown",
   "metadata": {}
  },
  {
   "cell_type": "code",
   "execution_count": null,
   "metadata": {},
   "outputs": [],
   "source": []
  },
  {
   "cell_type": "code",
   "execution_count": 35,
   "metadata": {},
   "outputs": [
    {
     "output_type": "stream",
     "name": "stdout",
     "text": [
      "hello\n"
     ]
    }
   ],
   "source": [
    "# creating a file\n",
    "#f= open(\"s.txt\",\"x\")  \n",
    "f= open(\"s.txt\",\"w\")\n",
    "f.write(\"hello\")\n",
    "f.close()\n",
    "f = open(\"s.txt\",'r')\n",
    "print(f.read())"
   ]
  },
  {
   "cell_type": "code",
   "execution_count": 32,
   "metadata": {},
   "outputs": [
    {
     "output_type": "stream",
     "name": "stdout",
     "text": [
      "this is new file\n"
     ]
    }
   ],
   "source": [
    "# writing into file\n",
    "f = open(\"file_name.txt\",'w')\n",
    "f.write(\"this is new file\")\n",
    "f = open(\"file_name.txt\",'r')\n",
    "print(f.read())"
   ]
  },
  {
   "cell_type": "code",
   "execution_count": 34,
   "metadata": {},
   "outputs": [
    {
     "output_type": "stream",
     "name": "stdout",
     "text": [
      "this is new file....happy learning....\n"
     ]
    }
   ],
   "source": [
    "## appending text in file \n",
    "\n",
    "f = open(\"file_name.txt\",'a')\n",
    "f.write(\"....happy learning....\")\n",
    "f = open(\"file_name.txt\",'r')\n",
    "print(f.read())"
   ]
  },
  {
   "cell_type": "code",
   "execution_count": 41,
   "metadata": {},
   "outputs": [
    {
     "output_type": "execute_result",
     "data": {
      "text/plain": [
       "'0o42'"
      ]
     },
     "metadata": {},
     "execution_count": 41
    }
   ],
   "source": [
    "bin(5)\n",
    "hex(14)\n",
    "oct(34)"
   ]
  },
  {
   "cell_type": "code",
   "execution_count": 47,
   "metadata": {},
   "outputs": [
    {
     "output_type": "execute_result",
     "data": {
      "text/plain": [
       "(87, 2)"
      ]
     },
     "metadata": {},
     "execution_count": 47
    }
   ],
   "source": [
    "#methods for integer and float\n",
    "round(2.3)\n",
    "import math\n",
    "math.ceil(3.5)\n",
    "divmod(45,6)\n",
    "43.5.as_integer_ratio()"
   ]
  },
  {
   "cell_type": "code",
   "execution_count": 51,
   "metadata": {},
   "outputs": [
    {
     "output_type": "execute_result",
     "data": {
      "text/plain": [
       "165"
      ]
     },
     "metadata": {},
     "execution_count": 51
    }
   ],
   "source": [
    "# writing this code in difficult way`\n",
    "x = [1,3,5,7,9]\n",
    "sum_squared = 0\n",
    "for i in range(len(x)):\n",
    "    sum_squared += x[i]**2\n",
    "sum_squared"
   ]
  },
  {
   "cell_type": "code",
   "execution_count": 53,
   "metadata": {},
   "outputs": [
    {
     "output_type": "execute_result",
     "data": {
      "text/plain": [
       "165"
      ]
     },
     "metadata": {},
     "execution_count": 53
    }
   ],
   "source": [
    "#the same above code can be written in simpler way\n",
    "x = [1,3,5,7,9]\n",
    "sum_squared = 0\n",
    "for y in x:\n",
    "    sum_squared += y**2\n",
    "sum_squared"
   ]
  },
  {
   "cell_type": "code",
   "execution_count": 55,
   "metadata": {},
   "outputs": [
    {
     "output_type": "execute_result",
     "data": {
      "text/plain": [
       "165"
      ]
     },
     "metadata": {},
     "execution_count": 55
    }
   ],
   "source": [
    "# more pythonic way of above code\n",
    "\n",
    "x = [1,3,5,7,9]\n",
    "sum_squared = sum([y**2 for y in x])\n",
    "sum_squared"
   ]
  },
  {
   "cell_type": "code",
   "execution_count": 57,
   "metadata": {},
   "outputs": [
    {
     "output_type": "execute_result",
     "data": {
      "text/plain": [
       "9"
      ]
     },
     "metadata": {},
     "execution_count": 57
    }
   ],
   "source": [
    "# use of *arg argument the `*` is important, we can take any variable after * \n",
    "\n",
    "def add(*num):\n",
    "    result = 0\n",
    "    for arg in num:\n",
    "        result += arg\n",
    "    return result\n",
    "add(1,3,5)"
   ]
  },
  {
   "cell_type": "code",
   "execution_count": 21,
   "metadata": {},
   "outputs": [
    {
     "output_type": "stream",
     "name": "stdout",
     "text": [
      "hello, new file has been created\n"
     ]
    }
   ],
   "source": [
    "file1 = open('file_name1.txt', 'w')\n",
    "file1.write('hello, new file has been created')\n",
    "file1 = open('file_name1.txt', 'r')\n",
    "print(file1.read())"
   ]
  },
  {
   "cell_type": "code",
   "execution_count": 8,
   "metadata": {},
   "outputs": [
    {
     "output_type": "error",
     "ename": "NameError",
     "evalue": "name 'value' is not defined",
     "traceback": [
      "\u001b[1;31m---------------------------------------------------------------------------\u001b[0m",
      "\u001b[1;31mNameError\u001b[0m                                 Traceback (most recent call last)",
      "\u001b[1;32m<ipython-input-8-b0438c05ad9d>\u001b[0m in \u001b[0;36m<module>\u001b[1;34m\u001b[0m\n\u001b[0;32m      3\u001b[0m     \u001b[0mgive\u001b[0m \u001b[1;33m=\u001b[0m \u001b[0mint\u001b[0m\u001b[1;33m(\u001b[0m\u001b[0minput\u001b[0m\u001b[1;33m(\u001b[0m\u001b[1;33m)\u001b[0m\u001b[1;33m)\u001b[0m\u001b[1;33m\u001b[0m\u001b[1;33m\u001b[0m\u001b[0m\n\u001b[0;32m      4\u001b[0m     \u001b[0mvalue\u001b[0m\u001b[1;33m.\u001b[0m\u001b[0mappend\u001b[0m\u001b[1;33m(\u001b[0m\u001b[0mgive\u001b[0m\u001b[1;33m)\u001b[0m\u001b[1;33m\u001b[0m\u001b[1;33m\u001b[0m\u001b[0m\n\u001b[1;32m----> 5\u001b[1;33m \u001b[0mprint\u001b[0m\u001b[1;33m(\u001b[0m\u001b[0mvalue\u001b[0m\u001b[1;33m)\u001b[0m\u001b[1;33m\u001b[0m\u001b[1;33m\u001b[0m\u001b[0m\n\u001b[0m",
      "\u001b[1;31mNameError\u001b[0m: name 'value' is not defined"
     ]
    }
   ],
   "source": [
    "lst = []\n",
    "for value in lst:\n",
    "    give = int(input())\n",
    "    v = value.append(give) \n",
    "print(value)"
   ]
  },
  {
   "cell_type": "code",
   "execution_count": 1,
   "metadata": {},
   "outputs": [
    {
     "output_type": "stream",
     "name": "stdout",
     "text": [
      "6.0\n"
     ]
    }
   ],
   "source": [
    "import math\n",
    "s = abs(math.sqrt(36))\n",
    "print(s)"
   ]
  },
  {
   "cell_type": "code",
   "execution_count": 61,
   "metadata": {},
   "outputs": [
    {
     "output_type": "stream",
     "name": "stdout",
     "text": [
      "List of students:  []\n"
     ]
    }
   ],
   "source": [
    "# take n number of inputs\n",
    "x = list(map(int, input(\"Enter a multiple value: \").split()))\n",
    "print(\"List of students: \", x)"
   ]
  },
  {
   "cell_type": "code",
   "execution_count": 3,
   "metadata": {},
   "outputs": [
    {
     "output_type": "stream",
     "name": "stdout",
     "text": [
      "Total number of students:  5\nNumber of boys is :  10\nNumber of girls is :  25\n\n"
     ]
    }
   ],
   "source": [
    "# taking three inputs at a time\n",
    "x, y, z = input(\"Enter a three value: \").split()\n",
    "print(\"Total number of students: \", x)\n",
    "print(\"Number of boys is : \", y)\n",
    "print(\"Number of girls is : \", z)\n",
    "print()"
   ]
  },
  {
   "cell_type": "code",
   "execution_count": 6,
   "metadata": {},
   "outputs": [
    {
     "output_type": "stream",
     "name": "stdout",
     "text": [
      "Number of boys:  10\nNumber of girls:  25\n"
     ]
    }
   ],
   "source": [
    "# taking two inputs at a time\n",
    "x, y = input(\"Enter a two value: \").split()\n",
    "print(\"Number of boys: \", x)\n",
    "print(\"Number of girls: \", y)"
   ]
  },
  {
   "cell_type": "code",
   "execution_count": 13,
   "metadata": {},
   "outputs": [
    {
     "output_type": "stream",
     "name": "stdout",
     "text": [
      "number of boys is: 25 \nnumber of girls is: 10\n"
     ]
    }
   ],
   "source": [
    "print(\"number of boys is: {} \\nnumber of girls is: {}\".format(y,x))"
   ]
  },
  {
   "cell_type": "code",
   "execution_count": 23,
   "metadata": {},
   "outputs": [
    {
     "output_type": "stream",
     "name": "stdout",
     "text": [
      "{16, 1, 4, 9}\n"
     ]
    }
   ],
   "source": [
    "def calculateSquare(n):\n",
    "    return n*n\n",
    "\n",
    "\n",
    "numbers = (1, 2, 3, 4)\n",
    "result = map(calculateSquare, numbers)\n",
    "print(set(result))\n"
   ]
  },
  {
   "cell_type": "code",
   "execution_count": 1,
   "metadata": {},
   "outputs": [
    {
     "output_type": "stream",
     "name": "stdout",
     "text": [
      "[4, 5, 1, 2, 452]\n"
     ]
    }
   ],
   "source": [
    "\n",
    "# creating an empty list\n",
    "lst = []\n",
    "  \n",
    "# number of elemetns as input\n",
    "n = int(input(\"Enter number of elements : \"))\n",
    "  \n",
    "# iterating till the range\n",
    "for i in range(0, n):\n",
    "    ele = int(input())\n",
    "  \n",
    "    lst.append(ele) # adding the element\n",
    "      \n",
    "print(lst)"
   ]
  },
  {
   "cell_type": "code",
   "execution_count": 31,
   "metadata": {},
   "outputs": [
    {
     "output_type": "stream",
     "name": "stdout",
     "text": [
      "[5, 1, 2, 3, 4, 5, 2, 3]\n"
     ]
    }
   ],
   "source": [
    "# try block to handle the exception\n",
    "try:\n",
    "    my_list = []\n",
    "      \n",
    "    while True:\n",
    "        my_list.append(int(input()))\n",
    "          \n",
    "# if the input is not-integer, just print the list\n",
    "except:\n",
    "    print(my_list)"
   ]
  },
  {
   "cell_type": "code",
   "execution_count": 33,
   "metadata": {},
   "outputs": [
    {
     "output_type": "stream",
     "name": "stdout",
     "text": [
      "\nList is -  [1, 2, 5, 4]\n"
     ]
    }
   ],
   "source": [
    "# number of elements\n",
    "n = int(input(\"Enter number of elements : \"))\n",
    "  \n",
    "# Below line read inputs from user using map() function \n",
    "a = list(map(int,input(\"\\nEnter the numbers : \").strip().split()))[:n]\n",
    "  \n",
    "print(\"\\nList is - \", a)"
   ]
  },
  {
   "cell_type": "code",
   "execution_count": 1,
   "metadata": {},
   "outputs": [
    {
     "output_type": "stream",
     "name": "stdout",
     "text": [
      "286, 287, 288, 289, 291, 292, 293, 294, 296, 297, 298, 299, 301, 302, 303, 304, 306, 307, 308, 309, 311, 312, 313, 314, 316, 317, 318, 319, 321, 322, 323, 324, 326, 327, 328, 329, 331, 332, 333, 334, 336, 337, 338, 339, 341, 342, 343, 344, 346, 347, 348, 349, 351, 352, 353, 354, 356, 357, 358, 359, 361, 362, 363, 364, 366, 367, 368, 369, 371, 372, 373, 374, 376, 377, 378, 379, 381, 382, 383, 384, 386, 387, 388, 389, 391, 392, 393, 394, 396, 397, 398, 399, 401, 402, 403, 404, 406, 407, 408, 409, 411, 412, 413, 414, 416, 417, 418, 419, 421, 422, 423, 424, 426, 427, 428, 429, 431, 432, 433, 434, 436, 437, 438, 439, 441, 442, 443, 444, 446, 447, 448, 449, 451, 452, 453, 454, 456, 457, "
     ]
    }
   ],
   "source": [
    "'''Write a program which will find all such numbers which are divisible by 7 but are not a multiple of 5, between 2000 and 3200 (both included). The numbers obtained should be printed\n",
    "in a comma-separated sequence on a single line.'''\n",
    "\n",
    "for i in range(2000,3200):\n",
    "    if i % 5 != 0 and i % 7 == 0:\n",
    "        # j = i // 7\n",
    "        print(i // 7, end=', ')\n",
    "        "
   ]
  },
  {
   "cell_type": "code",
   "execution_count": 49,
   "metadata": {},
   "outputs": [
    {
     "output_type": "stream",
     "name": "stdout",
     "text": [
      "<map object at 0x000001D9184BD9A0>\n"
     ]
    }
   ],
   "source": [
    "inp = map(int, input('write n numbers:').split())\n",
    "print(inp)"
   ]
  },
  {
   "cell_type": "code",
   "execution_count": 70,
   "metadata": {},
   "outputs": [
    {
     "output_type": "stream",
     "name": "stdout",
     "text": [
      "-1\n4\n-5\n-2\nthe total sum of adjacent difference is 12\n"
     ]
    }
   ],
   "source": [
    "lst = [10, 11, 7, 12, 14]\n",
    "n,y,z = 0,0,0\n",
    "# y = 0\n",
    "# z = 0\n",
    "n1 = []\n",
    "for i in lst:\n",
    "    x = lst[n] - lst[n+1]\n",
    "    n += 1 \n",
    "    n1.append(x)\n",
    "    print(x)\n",
    "    if x < 0:\n",
    "        y -= x\n",
    "    else:\n",
    "        z += x\n",
    "    if n == len(lst) - 1:\n",
    "        break\n",
    "# print(n1)\n",
    "print('the total sum of adjacent difference is', y+z)"
   ]
  },
  {
   "cell_type": "code",
   "execution_count": 2,
   "metadata": {},
   "outputs": [
    {
     "output_type": "stream",
     "name": "stdout",
     "text": [
      "2002,2009,2016,2023,2037,2044,2051,2058,2072,2079,2086,2093,2107,2114,2121,2128,2142,2149,2156,2163,2177,2184,2191,2198,2212,2219,2226,2233,2247,2254,2261,2268,2282,2289,2296,2303,2317,2324,2331,2338,2352,2359,2366,2373,2387,2394,2401,2408,2422,2429,2436,2443,2457,2464,2471,2478,2492,2499,2506,2513,2527,2534,2541,2548,2562,2569,2576,2583,2597,2604,2611,2618,2632,2639,2646,2653,2667,2674,2681,2688,2702,2709,2716,2723,2737,2744,2751,2758,2772,2779,2786,2793,2807,2814,2821,2828,2842,2849,2856,2863,2877,2884,2891,2898,2912,2919,2926,2933,2947,2954,2961,2968,2982,2989,2996,3003,3017,3024,3031,3038,3052,3059,3066,3073,3087,3094,3101,3108,3122,3129,3136,3143,3157,3164,3171,3178,3192,3199,"
     ]
    }
   ],
   "source": [
    "'''Write a program which will find all such numbers which are divisible by 7 but are not a multiple of 5, between 2000 and 3200 (both included). The numbers obtained should be printed\n",
    "in a comma-separated sequence on a single line.'''\n",
    "\n",
    "num=range(2000,3201)\n",
    "for i in range(len(num)):\n",
    "    if((num[i]%7==0)and(num[i]%5!=0)):\n",
    "        print(num[i],end=\",\")"
   ]
  },
  {
   "cell_type": "code",
   "execution_count": 14,
   "metadata": {},
   "outputs": [
    {
     "output_type": "stream",
     "name": "stdout",
     "text": [
      "10\n"
     ]
    }
   ],
   "source": [
    "num=range(2000,3201)\n",
    "# num_1 = len(num)\n",
    "# print(num_1)\n",
    "for i in range(0,11):\n",
    "    pass\n",
    "print(i)\n",
    "\n",
    "    "
   ]
  },
  {
   "cell_type": "code",
   "execution_count": 33,
   "metadata": {},
   "outputs": [
    {
     "output_type": "stream",
     "name": "stdout",
     "text": [
      "no\n"
     ]
    }
   ],
   "source": [
    "A,B,C = input().split()\n",
    "if A == B :\n",
    "    print(\"yes\")\n",
    "elif B == C :\n",
    "    print('yes')\n",
    "elif C == A:\n",
    "    print('yes')\n",
    "else:\n",
    "    print('no')"
   ]
  },
  {
   "cell_type": "code",
   "execution_count": 42,
   "metadata": {},
   "outputs": [
    {
     "output_type": "stream",
     "name": "stdout",
     "text": [
      "13.954\n13.95\n"
     ]
    }
   ],
   "source": [
    "a = 13.9539\n",
    "print(round(a,3))\n",
    "print('%.2f' %a)"
   ]
  },
  {
   "cell_type": "code",
   "execution_count": 2,
   "metadata": {},
   "outputs": [
    {
     "output_type": "stream",
     "name": "stdout",
     "text": [
      "List of students:\n",
      "  [1.0, 2.0, 3.0]\n",
      "List of students:\n",
      "  [32.0, 1.0, 2.0, 5.0]\n",
      "List of students:\n",
      "  [5.0, 4.0, 5.0, 5.0]\n"
     ]
    },
    {
     "output_type": "error",
     "ename": "TypeError",
     "evalue": "'float' object is not subscriptable",
     "traceback": [
      "\u001b[1;31m---------------------------------------------------------------------------\u001b[0m",
      "\u001b[1;31mTypeError\u001b[0m                                 Traceback (most recent call last)",
      "\u001b[1;32m<ipython-input-2-8b7d1b928b16>\u001b[0m in \u001b[0;36m<module>\u001b[1;34m\u001b[0m\n\u001b[0;32m     11\u001b[0m     \u001b[1;32mfor\u001b[0m \u001b[0mi\u001b[0m \u001b[1;32min\u001b[0m \u001b[0mx\u001b[0m\u001b[1;33m:\u001b[0m\u001b[1;33m\u001b[0m\u001b[1;33m\u001b[0m\u001b[0m\n\u001b[0;32m     12\u001b[0m         \u001b[0mtem\u001b[0m \u001b[1;33m=\u001b[0m \u001b[0mtem\u001b[0m \u001b[1;33m*\u001b[0m \u001b[0mi\u001b[0m\u001b[1;33m\u001b[0m\u001b[1;33m\u001b[0m\u001b[0m\n\u001b[1;32m---> 13\u001b[1;33m         \u001b[1;32mif\u001b[0m \u001b[0mi\u001b[0m\u001b[1;33m[\u001b[0m\u001b[1;33m:\u001b[0m\u001b[1;33m:\u001b[0m\u001b[1;33m]\u001b[0m \u001b[1;33m==\u001b[0m \u001b[1;36m0.0\u001b[0m\u001b[1;33m:\u001b[0m\u001b[1;33m\u001b[0m\u001b[1;33m\u001b[0m\u001b[0m\n\u001b[0m\u001b[0;32m     14\u001b[0m             \u001b[0mprint\u001b[0m\u001b[1;33m(\u001b[0m\u001b[1;36m100\u001b[0m\u001b[1;33m/\u001b[0m\u001b[0mtem\u001b[0m\u001b[1;33m)\u001b[0m\u001b[1;33m\u001b[0m\u001b[1;33m\u001b[0m\u001b[0m\n\u001b[0;32m     15\u001b[0m     \u001b[1;32mfor\u001b[0m \u001b[0mj\u001b[0m \u001b[1;32min\u001b[0m \u001b[0mx1\u001b[0m\u001b[1;33m:\u001b[0m\u001b[1;33m\u001b[0m\u001b[1;33m\u001b[0m\u001b[0m\n",
      "\u001b[1;31mTypeError\u001b[0m: 'float' object is not subscriptable"
     ]
    }
   ],
   "source": [
    "testcase = int(input())\n",
    "tem,tem1,tem2= 1,1,1\n",
    "x = list(map(float, input(\"Enter a multiple value: \").split()))\n",
    "print(\"List of students:\\n \", x)\n",
    "x1 = list(map(float, input(\"Enter a multiple value: \").split()))\n",
    "print(\"List of students:\\n \", x1)\n",
    "x2 = list(map(float, input(\"Enter a multiple value: \").split()))\n",
    "print(\"List of students:\\n \", x2)\n",
    "\n",
    "while (testcase == testcase):\n",
    "    for i in x:\n",
    "        tem = tem * i\n",
    "        if i[::] == 0.0:\n",
    "            print(100/tem)\n",
    "    for j in x1:\n",
    "        tem1 = tem1 * j\n",
    "    for k in x2:\n",
    "        tem2 = tem2 * k\n",
    "    print(100/tem2)\n",
    "    testcase -= 1\n",
    "    if testcase == 0:\n",
    "        break"
   ]
  },
  {
   "cell_type": "code",
   "execution_count": 118,
   "metadata": {},
   "outputs": [
    {
     "output_type": "stream",
     "name": "stdout",
     "text": [
      "List of students:\n  [3.0]\n33.333333333333336\n"
     ]
    }
   ],
   "source": [
    "x = list(map(float, input(\"Enter a multiple value: \").split()))\n",
    "print(\"List of students:\\n \", x)\n",
    "tem,tem1,tem2 = 1,1,1\n",
    "for i in x:\n",
    "    tem = tem * i\n",
    "print(100/tem)"
   ]
  },
  {
   "cell_type": "code",
   "execution_count": 155,
   "metadata": {},
   "outputs": [],
   "source": [
    "while True:\n",
    "    answer = input('Enter the current number of HP (1-75): ')\n",
    "\n",
    "    try:\n",
    "        # try to convert the answer to an integer\n",
    "        hp_cur = int(answer)\n",
    "        # print(answer)\n",
    "\n",
    "    except ValueError:\n",
    "        # if the input was not a number, print an error message and loop again\n",
    "        print ('Please enter a number.')\n",
    "        continue\n",
    "\n",
    "    # if the number is in the correct range, stop looping\n",
    "    if 1 <= hp_cur <= 75:\n",
    "        break\n",
    "\n",
    "    # otherwise print an error message, and we will loop around again\n",
    "    print ('Please enter a number in the range 1 to 75.')"
   ]
  },
  {
   "cell_type": "code",
   "execution_count": 16,
   "metadata": {},
   "outputs": [
    {
     "output_type": "stream",
     "name": "stdout",
     "text": [
      "1 2 3 4 5 6 7 8 9 10 11 12 13 14 15 16 "
     ]
    }
   ],
   "source": [
    "for _ in range(1, 2**4+1):\n",
    "    print(_, end=' ')"
   ]
  },
  {
   "cell_type": "code",
   "execution_count": 9,
   "metadata": {},
   "outputs": [
    {
     "output_type": "stream",
     "name": "stdout",
     "text": [
      "yes\n",
      "no\n"
     ]
    }
   ],
   "source": [
    "testcase = int(input())\n",
    "for i in range(0, testcase):\n",
    "\n",
    "    x, y, z = map(int, input(\"Enter a three value: \").split())\n",
    "    # print(x,y,z)\n",
    "    if (2 ** x) == (2 ** y) + (2 ** z):\n",
    "        print(\"yes\")\n",
    "    elif (2 ** y) == (2 ** z) + (2 ** x):\n",
    "        print(\"yes\")\n",
    "    elif (2 ** z) == (2 ** x) + (2 ** y):\n",
    "        print(\"yes\")\n",
    "    else:\n",
    "        print(\"no\")\n"
   ]
  },
  {
   "cell_type": "code",
   "execution_count": 3,
   "metadata": {},
   "outputs": [
    {
     "output_type": "error",
     "ename": "ValueError",
     "evalue": "not enough values to unpack (expected 3, got 2)",
     "traceback": [
      "\u001b[1;31m---------------------------------------------------------------------------\u001b[0m",
      "\u001b[1;31mValueError\u001b[0m                                Traceback (most recent call last)",
      "\u001b[1;32m<ipython-input-3-47a23a6ab431>\u001b[0m in \u001b[0;36m<module>\u001b[1;34m\u001b[0m\n\u001b[0;32m      4\u001b[0m \u001b[1;32mif\u001b[0m \u001b[1;36m1\u001b[0m \u001b[1;33m<=\u001b[0m \u001b[0mtestcase\u001b[0m \u001b[1;33m<=\u001b[0m \u001b[1;36m10\u001b[0m\u001b[1;33m**\u001b[0m\u001b[1;36m4\u001b[0m\u001b[1;33m:\u001b[0m\u001b[1;33m\u001b[0m\u001b[1;33m\u001b[0m\u001b[0m\n\u001b[0;32m      5\u001b[0m   \u001b[1;32mfor\u001b[0m \u001b[0mi\u001b[0m \u001b[1;32min\u001b[0m \u001b[0mrange\u001b[0m\u001b[1;33m(\u001b[0m\u001b[1;36m0\u001b[0m\u001b[1;33m,\u001b[0m \u001b[0mtestcase\u001b[0m\u001b[1;33m)\u001b[0m\u001b[1;33m:\u001b[0m\u001b[1;33m\u001b[0m\u001b[1;33m\u001b[0m\u001b[0m\n\u001b[1;32m----> 6\u001b[1;33m       \u001b[0mx\u001b[0m\u001b[1;33m,\u001b[0m \u001b[0my\u001b[0m\u001b[1;33m,\u001b[0m \u001b[0mz\u001b[0m \u001b[1;33m=\u001b[0m \u001b[0mmap\u001b[0m\u001b[1;33m(\u001b[0m\u001b[0mint\u001b[0m\u001b[1;33m,\u001b[0m \u001b[0minput\u001b[0m\u001b[1;33m(\u001b[0m\u001b[1;34m\"\"\u001b[0m\u001b[1;33m)\u001b[0m\u001b[1;33m.\u001b[0m\u001b[0msplit\u001b[0m\u001b[1;33m(\u001b[0m\u001b[1;33m)\u001b[0m\u001b[1;33m)\u001b[0m\u001b[1;33m\u001b[0m\u001b[1;33m\u001b[0m\u001b[0m\n\u001b[0m\u001b[0;32m      7\u001b[0m       if (\n\u001b[0;32m      8\u001b[0m           \u001b[1;36m1\u001b[0m \u001b[1;33m<=\u001b[0m \u001b[0mx\u001b[0m \u001b[1;33m<=\u001b[0m \u001b[1;36m10\u001b[0m\u001b[1;33m**\u001b[0m\u001b[1;36m9\u001b[0m \u001b[1;32mand\u001b[0m\u001b[1;33m\u001b[0m\u001b[1;33m\u001b[0m\u001b[0m\n",
      "\u001b[1;31mValueError\u001b[0m: not enough values to unpack (expected 3, got 2)"
     ]
    }
   ],
   "source": [
    "# program for sharp triangle 2^A = 2^B + 2^C, 2^B = 2^C + 2^A, 2^C = 2^A + 2^B\n",
    "\n",
    "testcase = int(input())\n",
    "if 1 <= testcase <= 10**4:\n",
    "  for i in range(0, testcase):\n",
    "      x, y, z = map(int, input(\"\").split())\n",
    "      if (\n",
    "          1 <= x <= 10**9 and \n",
    "          1 <= y <= 10**9 and \n",
    "          1 <= z <= 10**9\n",
    "          ):\n",
    "  \n",
    "        # print(x,y,z)\n",
    "        if (2 ** x) == (2 ** y) + (2 ** z):\n",
    "            print(\"YES\")\n",
    "        elif (2 ** y) == (2 ** z) + (2 ** x):\n",
    "            print(\"YES\")\n",
    "        elif (2 ** z) == (2 ** x) + (2 ** y):\n",
    "            print(\"YES\")\n",
    "        else:\n",
    "            print(\"NO\")\n",
    "\n"
   ]
  }
 ],
 "metadata": {
  "kernelspec": {
   "name": "python3",
   "display_name": "Python 3.8.3 64-bit ('base': conda)"
  },
  "language_info": {
   "codemirror_mode": {
    "name": "ipython",
    "version": 3
   },
   "file_extension": ".py",
   "mimetype": "text/x-python",
   "name": "python",
   "nbconvert_exporter": "python",
   "pygments_lexer": "ipython3",
   "version": "3.8.3"
  },
  "interpreter": {
   "hash": "5a570c1c9e564e66e08c537fd9c2787b22d75407af6bd0fd0606e67d7697d6a1"
  }
 },
 "nbformat": 4,
 "nbformat_minor": 2
}