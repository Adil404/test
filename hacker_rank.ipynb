{
 "metadata": {
  "language_info": {
   "codemirror_mode": {
    "name": "ipython",
    "version": 3
   },
   "file_extension": ".py",
   "mimetype": "text/x-python",
   "name": "python",
   "nbconvert_exporter": "python",
   "pygments_lexer": "ipython3",
   "version": "3.8.3"
  },
  "orig_nbformat": 2,
  "kernelspec": {
   "name": "python3",
   "display_name": "Python 3.8.3 64-bit ('base': conda)"
  },
  "interpreter": {
   "hash": "5a570c1c9e564e66e08c537fd9c2787b22d75407af6bd0fd0606e67d7697d6a1"
  }
 },
 "nbformat": 4,
 "nbformat_minor": 2,
 "cells": [
  {
   "cell_type": "code",
   "execution_count": 1,
   "metadata": {},
   "outputs": [],
   "source": [
    "def plusMinus(arr):\n",
    "    # Write your code here\n",
    "    # test = int(input())\n",
    "    # m1 = list(map(int, input().split()))\n",
    "\n",
    "\n",
    "    if len(arr) == n:\n",
    "        # print(m1)\n",
    "        count = 0\n",
    "        count1 = 0\n",
    "        count2 = 0\n",
    "        for i in arr:            \n",
    "            if i > 0:\n",
    "                count += 1\n",
    "            elif i < 0:\n",
    "                count1 += 1\n",
    "            elif i == 0:\n",
    "                count2 += 1\n",
    "    return '%.6f' % (count/ len(arr))\n",
    "    return '%.6f' % (count1/ len(arr))\n",
    "    return '%.6f' % (count2/ len(arr))\n",
    "            \n",
    "\n",
    "if __name__ == '__main__':\n",
    "    n = int(input().strip())\n",
    "\n",
    "    arr = list(map(int, input().rstrip().split()))\n",
    "\n",
    "    plusMinus(arr)\n"
   ]
  }
 ]
}