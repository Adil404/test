{
 "metadata": {
  "language_info": {
   "codemirror_mode": {
    "name": "ipython",
    "version": 3
   },
   "file_extension": ".py",
   "mimetype": "text/x-python",
   "name": "python",
   "nbconvert_exporter": "python",
   "pygments_lexer": "ipython3",
   "version": "3.8.3"
  },
  "orig_nbformat": 2,
  "kernelspec": {
   "name": "python3",
   "display_name": "Python 3.8.3 64-bit ('base': conda)"
  },
  "interpreter": {
   "hash": "5a570c1c9e564e66e08c537fd9c2787b22d75407af6bd0fd0606e67d7697d6a1"
  }
 },
 "nbformat": 4,
 "nbformat_minor": 2,
 "cells": [
  {
   "cell_type": "code",
   "execution_count": 1,
   "metadata": {},
   "outputs": [],
   "source": [
    "def plusMinus(arr):\n",
    "    # Write your code here\n",
    "    # test = int(input())\n",
    "    # m1 = list(map(int, input().split()))\n",
    "\n",
    "\n",
    "    if len(arr) == n:\n",
    "        # print(m1)\n",
    "        count = 0\n",
    "        count1 = 0\n",
    "        count2 = 0\n",
    "        for i in arr:            \n",
    "            if i > 0:\n",
    "                count += 1\n",
    "            elif i < 0:\n",
    "                count1 += 1\n",
    "            elif i == 0:\n",
    "                count2 += 1\n",
    "    return '%.6f' % (count/ len(arr))\n",
    "    return '%.6f' % (count1/ len(arr))\n",
    "    return '%.6f' % (count2/ len(arr))\n",
    "            \n",
    "\n",
    "if __name__ == '__main__':\n",
    "    n = int(input().strip())\n",
    "\n",
    "    arr = list(map(int, input().rstrip().split()))\n",
    "\n",
    "    plusMinus(arr)\n"
   ]
  },
  {
   "cell_type": "code",
   "execution_count": 12,
   "metadata": {},
   "outputs": [
    {
     "output_type": "stream",
     "name": "stdout",
     "text": [
      "10 14\n"
     ]
    }
   ],
   "source": [
    "arr = [1, 2, 3, 4, 5]\n",
    "l = len(arr)\n",
    "new1 = []\n",
    "for i in range(0, l):\n",
    "    new = sum(arr) - arr[i]\n",
    "    new1.append(new)\n",
    "print(min(new1), max(new1))\n",
    "# max(arr)"
   ]
  },
  {
   "cell_type": "code",
   "execution_count": 24,
   "metadata": {},
   "outputs": [
    {
     "output_type": "error",
     "ename": "TypeError",
     "evalue": "'int' object is not iterable",
     "traceback": [
      "\u001b[1;31m---------------------------------------------------------------------------\u001b[0m",
      "\u001b[1;31mTypeError\u001b[0m                                 Traceback (most recent call last)",
      "\u001b[1;32m<ipython-input-24-bc65bfb78a95>\u001b[0m in \u001b[0;36m<module>\u001b[1;34m\u001b[0m\n\u001b[0;32m      4\u001b[0m     \u001b[0mcount\u001b[0m \u001b[1;33m=\u001b[0m \u001b[1;36m0\u001b[0m\u001b[1;33m\u001b[0m\u001b[1;33m\u001b[0m\u001b[0m\n\u001b[0;32m      5\u001b[0m     \u001b[1;32mfor\u001b[0m \u001b[0mi\u001b[0m \u001b[1;32min\u001b[0m \u001b[0mcandles\u001b[0m\u001b[1;33m:\u001b[0m\u001b[1;33m\u001b[0m\u001b[1;33m\u001b[0m\u001b[0m\n\u001b[1;32m----> 6\u001b[1;33m         \u001b[0mprint\u001b[0m\u001b[1;33m(\u001b[0m\u001b[0mmax\u001b[0m\u001b[1;33m(\u001b[0m\u001b[0mi\u001b[0m\u001b[1;33m)\u001b[0m\u001b[1;33m)\u001b[0m\u001b[1;33m\u001b[0m\u001b[1;33m\u001b[0m\u001b[0m\n\u001b[0m\u001b[0;32m      7\u001b[0m \u001b[1;33m\u001b[0m\u001b[0m\n",
      "\u001b[1;31mTypeError\u001b[0m: 'int' object is not iterable"
     ]
    }
   ],
   "source": [
    "candles_count = int(input())\n",
    "candles = list(map(int, input().split()))\n",
    "if len(candles) == candles_count:\n",
    "    count = 0\n",
    "    for i in candles:\n",
    "        print(max(i))\n",
    "        "
   ]
  },
  {
   "cell_type": "code",
   "execution_count": 31,
   "metadata": {},
   "outputs": [
    {
     "output_type": "error",
     "ename": "SyntaxError",
     "evalue": "invalid syntax (<ipython-input-31-ea598ee4fd2e>, line 5)",
     "traceback": [
      "\u001b[1;36m  File \u001b[1;32m\"<ipython-input-31-ea598ee4fd2e>\"\u001b[1;36m, line \u001b[1;32m5\u001b[0m\n\u001b[1;33m    s1 += 1 if i == max(candles) for i in candles:\u001b[0m\n\u001b[1;37m                                 ^\u001b[0m\n\u001b[1;31mSyntaxError\u001b[0m\u001b[1;31m:\u001b[0m invalid syntax\n"
     ]
    }
   ],
   "source": [
    "candles_count = int(input())\n",
    "candles = list(map(int, input().split()))\n",
    "s1 = 0\n",
    "if len(candles) == candles_count:\n",
    "    s1 += 1 if i == max(candles) for i in candles:\n",
    "                pass\n",
    "print(s)"
   ]
  },
  {
   "cell_type": "code",
   "execution_count": 22,
   "metadata": {},
   "outputs": [
    {
     "output_type": "stream",
     "name": "stdout",
     "text": [
      "YES\n0\n"
     ]
    }
   ],
   "source": [
    "count = 0\n",
    "a = [3, 4, 5]\n",
    "k = 2\n",
    "n = 3\n",
    "if n == len(a):\n",
    "    for i in a:\n",
    "        if i <= 0:\n",
    "            count += 1\n",
    "    if count >= k:\n",
    "        print(\"NO\")\n",
    "    else:\n",
    "        print(\"YES\")\n",
    "print(count)"
   ]
  },
  {
   "cell_type": "code",
   "execution_count": 34,
   "metadata": {},
   "outputs": [
    {
     "output_type": "stream",
     "name": "stdout",
     "text": [
      "[[5, 4, 3], [5, 4, 3], [5, 4, 3], [5, 4, 3], [5, 4, 3], [5, 4, 3]]\n"
     ]
    }
   ],
   "source": [
    "aa =[]\n",
    "for i in range(2):\n",
    "    for j in a:\n",
    "print(aa)"
   ]
  },
  {
   "cell_type": "code",
   "execution_count": 50,
   "metadata": {},
   "outputs": [
    {
     "output_type": "stream",
     "name": "stdout",
     "text": [
      "19\n"
     ]
    },
    {
     "output_type": "execute_result",
     "data": {
      "text/plain": [
       "'07:05:45'"
      ]
     },
     "metadata": {},
     "execution_count": 50
    }
   ],
   "source": [
    "s = input()\n",
    "for i in s:\n",
    "    if i == ':':\n",
    "        break\n",
    "        ss = 12 + int(i)\n",
    "print(ss)\n",
    "s.strip('AMP')"
   ]
  },
  {
   "cell_type": "code",
   "execution_count": 36,
   "metadata": {},
   "outputs": [
    {
     "output_type": "stream",
     "name": "stdout",
     "text": [
      "[3, 1, 2, 3, 1, 2]\n"
     ]
    }
   ],
   "source": [
    "n = [1, 2, 3]\n",
    "k = 2\n",
    "nn = []\n",
    "for j in range(k):\n",
    "    i = -(len(n)-1)\n",
    "    for _ in range(len(n)):\n",
    "        i += 1\n",
    "        nn.append(n[i])\n",
    "\n",
    "\n",
    "print(nn)"
   ]
  },
  {
   "cell_type": "code",
   "execution_count": 46,
   "metadata": {},
   "outputs": [
    {
     "output_type": "stream",
     "name": "stdout",
     "text": [
      "2 3 1 "
     ]
    }
   ],
   "source": [
    "# Python3 program for right rotation of\n",
    "# an array (Reversal Algorithm)\n",
    "\n",
    "\n",
    "# Function to reverse arr\n",
    "# from index start to end\n",
    "def reverseArray( arr, start, end):\n",
    "\t\n",
    "\twhile (start < end):\n",
    "\t\t\n",
    "\t\tarr[start], arr[end] = arr[end], arr[start]\n",
    "\t\tstart = start + 1\n",
    "\t\tend = end - 1\n",
    "\t\n",
    "\n",
    "# Function to right rotate arr\n",
    "# of size n by d\n",
    "def rightRotate( arr, d, n):\n",
    "\t\n",
    "\treverseArray(arr, 0, n - 1);\n",
    "\treverseArray(arr, 0, d - 1);\n",
    "\treverseArray(arr, d, n - 1);\n",
    "\n",
    "\n",
    "# function to pr an array\n",
    "def prArray( arr, size):\n",
    "\tfor i in range(0, size):\n",
    "\t\tprint (arr[i], end = ' ')\n",
    "\n",
    "\n",
    "# Driver code\n",
    "arr = [1, 2, 3]\n",
    "n = len(arr)\n",
    "k = 2\n",
    "\t\n",
    "# Function call\n",
    "rightRotate(arr, k, n)\n",
    "prArray(arr, n)\n",
    "\n",
    "\n",
    "# This article is contributed\n",
    "# by saloni1297\n",
    "\n",
    "\n"
   ]
  },
  {
   "cell_type": "code",
   "execution_count": 95,
   "metadata": {},
   "outputs": [
    {
     "output_type": "stream",
     "name": "stdout",
     "text": [
      "[1, 2, 3]\nRotated list is\n[2, 3, 1]\n"
     ]
    }
   ],
   "source": [
    "# Python program using the List\n",
    "# slicing approch to rotate the array\n",
    "def rotateList(arr,d,n):\n",
    "    arr[:]=arr[d-1:n]+arr[0:d-1]\n",
    "    return arr\n",
    "# Driver function to test above function\n",
    "arr = [1, 2, 3]\n",
    "print(arr)\n",
    "print(\"Rotated list is\")\n",
    "print(rotateList(arr,2,len(arr)))\n",
    "\n",
    "# this code is contributed by virusbuddah\n",
    "\n"
   ]
  },
  {
   "cell_type": "code",
   "execution_count": 149,
   "metadata": {},
   "outputs": [
    {
     "output_type": "stream",
     "name": "stdout",
     "text": [
      "2\n",
      "3\n",
      "1\n"
     ]
    }
   ],
   "source": [
    "def circularArrayRotation(a, k, queries):\n",
    "    # Write your code here\n",
    "    for _ in range(k):\n",
    "        nn = a.pop()\n",
    "        a.insert(0, nn)\n",
    "    i = 0\n",
    "    for _ in range(q):\n",
    "        queries_item = int(input().strip())\n",
    "        queries.append(queries_item)\n",
    "        print(a[queries[i]])\n",
    "        i += 1\n",
    "    # print(a) \n",
    "if __name__ == '__main__':\n",
    "    # fptr = open(os.environ['OUTPUT_PATH'], 'w')\n",
    "\n",
    "    first_multiple_input = input().rstrip().split()\n",
    "\n",
    "    n = int(first_multiple_input[0])\n",
    "\n",
    "    k = int(first_multiple_input[1])\n",
    "\n",
    "    q = int(first_multiple_input[2])\n",
    "\n",
    "    a = list(map(int, input().rstrip().split()))\n",
    "\n",
    "    queries = []\n",
    "    # i = 0\n",
    "    # for _ in range(q):\n",
    "    #     queries_item = int(input().strip())\n",
    "    #     queries.append(queries_item)\n",
    "    #     print(a[queries[i]])\n",
    "    #     i += 1\n",
    "\n",
    "    result = circularArrayRotation(a, k, queries)"
   ]
  },
  {
   "cell_type": "code",
   "execution_count": 101,
   "metadata": {},
   "outputs": [
    {
     "output_type": "stream",
     "name": "stdout",
     "text": [
      "[3, 1, 2, 2, 3, 1]\n"
     ]
    }
   ],
   "source": [
    "# arr = [1, 2, 3]\n",
    "\n",
    "index = -2\n",
    "for i in range(3):\n",
    "    index += 1\n",
    "    arr.append(arr[index])  \n",
    "print(arr)\n",
    "# arr[-1]                "
   ]
  },
  {
   "cell_type": "code",
   "execution_count": 144,
   "metadata": {},
   "outputs": [
    {
     "output_type": "stream",
     "name": "stdout",
     "text": [
      "1\n",
      "2\n",
      "3\n"
     ]
    }
   ],
   "source": [
    "arr = [1, 2, 3]\n",
    "q = int(input())\n",
    "queries = []\n",
    "i = 0\n",
    "for _ in range(q):\n",
    "    queries_item = int(input().strip())\n",
    "    queries.append(queries_item)\n",
    "    print(arr[queries[i]])\n",
    "    i += 1"
   ]
  },
  {
   "cell_type": "code",
   "execution_count": 100,
   "metadata": {},
   "outputs": [
    {
     "output_type": "stream",
     "name": "stdout",
     "text": [
      "1\n",
      "2\n",
      "3\n"
     ]
    }
   ],
   "source": [
    "#!/bin/python3\n",
    "\n",
    "# import math\n",
    "# import os\n",
    "# import random\n",
    "# import re\n",
    "# import sys\n",
    "\n",
    "#\n",
    "# Complete the 'circularArrayRotation' function below.\n",
    "#\n",
    "# The function is expected to return an INTEGER_ARRAY.\n",
    "# The function accepts following parameters:\n",
    "#  1. INTEGER_ARRAY a\n",
    "#  2. INTEGER k\n",
    "#  3. INTEGER_ARRAY queries\n",
    "#\n",
    "\n",
    "def circularArrayRotation(a, k, queries):\n",
    "    # Write your code here\n",
    "    a[:]=a[k-1:n]+a[0:k-1]\n",
    "    return a\n",
    "if __name__ == '__main__':\n",
    "    # fptr = open(os.environ['OUTPUT_PATH'], 'w')\n",
    "\n",
    "    first_multiple_input = input().rstrip().split()\n",
    "\n",
    "    n = int(first_multiple_input[0])\n",
    "\n",
    "    k = int(first_multiple_input[1])\n",
    "\n",
    "    q = int(first_multiple_input[2])\n",
    "\n",
    "    a = list(map(int, input().rstrip().split()))\n",
    "\n",
    "    queries = []\n",
    "    i = 0\n",
    "    for _ in range(q):\n",
    "        queries_item = int(input().strip())\n",
    "        queries.append(queries_item)\n",
    "        print(a[queries[i]])\n",
    "        i += 1\n",
    "\n",
    "    result = circularArrayRotation(a, k, queries)\n"
   ]
  },
  {
   "cell_type": "code",
   "execution_count": 137,
   "metadata": {},
   "outputs": [],
   "source": [
    "# i = -1\n",
    "# arr = [1, 2, 3]\n",
    "def arrayRotate(arr):\n",
    "    ar = list(map(int, input().split()))\n",
    "    for k in range(2):\n",
    "        nn = ar.pop()\n",
    "        ar.insert(0, nn)\n",
    "    print(ar)"
   ]
  },
  {
   "cell_type": "code",
   "execution_count": 139,
   "metadata": {},
   "outputs": [
    {
     "output_type": "stream",
     "name": "stdout",
     "text": [
      "[6, 7, 5]\n"
     ]
    }
   ],
   "source": [
    "arrayRotate(arr)"
   ]
  },
  {
   "cell_type": "code",
   "execution_count": 2,
   "metadata": {},
   "outputs": [
    {
     "output_type": "stream",
     "name": "stdout",
     "text": [
      "2\n19.666666666666668\n19.666666666666668\n19.666666666666668\n0\n"
     ]
    }
   ],
   "source": [
    "# Python program to reverse a number\n",
    "ii = 20\n",
    "count_1 = 0\n",
    "k = 6\n",
    "rev = 0\n",
    "jj = ii\n",
    "while(ii > 0):\n",
    "    a = ii % 10\n",
    "    rev = rev * 10 + a\n",
    "    ii = ii // 10\n",
    "print(rev)\n",
    "for _ in range(0, 3):\n",
    "    n1 = rev\n",
    "    print(jj - n1 / k)\n",
    "\n",
    "\n",
    "# print(ne)\n",
    "print(count_1)\n",
    "# This code is contributed by Shariq Raza\n"
   ]
  },
  {
   "cell_type": "code",
   "execution_count": 20,
   "metadata": {},
   "outputs": [
    {
     "output_type": "stream",
     "name": "stdout",
     "text": [
      "23\nYes\n"
     ]
    }
   ],
   "source": [
    "ii = int(input())\n",
    "jk = ii\n",
    "print(ii)\n",
    "# jk\n",
    "check = isinstance(jk, int)\n",
    "if check is True:\n",
    "    print(\"Yes\") "
   ]
  },
  {
   "cell_type": "code",
   "execution_count": 55,
   "metadata": {},
   "outputs": [
    {
     "output_type": "stream",
     "name": "stdout",
     "text": [
      "0.0\n"
     ]
    },
    {
     "output_type": "execute_result",
     "data": {
      "text/plain": [
       "True"
      ]
     },
     "metadata": {},
     "execution_count": 55
    }
   ],
   "source": [
    "x = 12/6\n",
    "xx = x -int(x) \n",
    "if xx == 0:\n",
    "    print(xx)"
   ]
  }
 ]
}