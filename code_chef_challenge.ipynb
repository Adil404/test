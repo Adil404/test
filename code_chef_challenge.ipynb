{
 "metadata": {
  "language_info": {
   "codemirror_mode": {
    "name": "ipython",
    "version": 3
   },
   "file_extension": ".py",
   "mimetype": "text/x-python",
   "name": "python",
   "nbconvert_exporter": "python",
   "pygments_lexer": "ipython3",
   "version": "3.8.3"
  },
  "orig_nbformat": 2,
  "kernelspec": {
   "name": "python3",
   "display_name": "Python 3.8.3 64-bit ('base': conda)"
  },
  "interpreter": {
   "hash": "5a570c1c9e564e66e08c537fd9c2787b22d75407af6bd0fd0606e67d7697d6a1"
  }
 },
 "nbformat": 4,
 "nbformat_minor": 2,
 "cells": [
  {
   "cell_type": "code",
   "execution_count": 11,
   "metadata": {},
   "outputs": [
    {
     "output_type": "stream",
     "name": "stdout",
     "text": [
      "Hello world\nHello world\nHello world\nHello world\nHello world\nHello world\nHello world\nHello world\nHello world\nHello world\n"
     ]
    }
   ],
   "source": [
    "for _ in range(10):\n",
    "     print(\"Hello world\")"
   ]
  },
  {
   "cell_type": "code",
   "execution_count": null,
   "metadata": {},
   "outputs": [],
   "source": [
    "# creating basic neural network from scratch"
   ]
  },
  {
   "cell_type": "code",
   "execution_count": 20,
   "metadata": {},
   "outputs": [],
   "source": [
    "import numpy as np\n",
    "import pandas as pd\n",
    "import matplotlib.pyplot as plt\n",
    "import seaborn as sns\n",
    "plt.style.use(\"fivethirtyeight\")\n"
   ]
  },
  {
   "cell_type": "code",
   "execution_count": 22,
   "metadata": {},
   "outputs": [
    {
     "output_type": "execute_result",
     "data": {
      "text/plain": [
       "'1.18.5'"
      ]
     },
     "metadata": {},
     "execution_count": 22
    }
   ],
   "source": [
    "np.__version__"
   ]
  },
  {
   "cell_type": "code",
   "execution_count": 13,
   "metadata": {},
   "outputs": [],
   "source": [
    "activationFunc = lambda inputs, weights: np.where(np.dot(inputs, weights) > 0, 1, 0)\n"
   ]
  },
  {
   "cell_type": "code",
   "execution_count": 14,
   "metadata": {},
   "outputs": [],
   "source": [
    "class CustomNN:\n",
    "    def __init__(self, eta, epochs, activationFunc):\n",
    "        self.weights = np.random.randn(3) * 1e-4\n",
    "        self.eta = eta\n",
    "        self.epochs = epochs\n",
    "        self.activationFunc = activationFunc\n",
    "        \n",
    "    def fit(self, X, y):\n",
    "        self.X = X\n",
    "        self.y = y\n",
    "        X_with_bias = np.c_[self.X, -np.ones((len(self.X), 1))]\n",
    "        \n",
    "        for _ in range(self.epochs):\n",
    "            \n",
    "            y_hat = self.activationFunc(X_with_bias, self.weights)\n",
    "            error = self.y - y_hat\n",
    "            self.weights = self.weights + self.eta * np.dot(X_with_bias.T, error)\n",
    "            \n",
    "    def predict(self, X):\n",
    "        X = np.c_[X, -np.ones((len(X), 1))]\n",
    "        return self.activationFunc(X, self.weights)\n"
   ]
  },
  {
   "cell_type": "code",
   "execution_count": 1,
   "metadata": {},
   "outputs": [
    {
     "output_type": "stream",
     "name": "stdout",
     "text": [
      "11.11111111111111\n",
      "6.25\n",
      "1.6666666666666667\n",
      "5.0\n",
      "2.0\n",
      "3.125\n"
     ]
    }
   ],
   "source": [
    "testcase = int(input())\n",
    "for i in range(0, testcase):\n",
    "    tem,tem1,tem2= 1,1,1\n",
    "# print(\"List of students:\\n \", x)\n",
    "# print(\"List of students:\\n \", x1)\n",
    "# print(\"List of students:\\n \", x2)\n",
    "    x = list(map(float, input(\"Enter a multiple value: \").split()))\n",
    "    for i in x:\n",
    "        tem = tem * i\n",
    "    print(100/tem)\n",
    "    x1 = list(map(float, input(\"Enter a multiple value: \").split()))\n",
    "    for j in x1:\n",
    "        tem1 = tem1 * j\n",
    "    print(100/tem1)\n",
    "    x2 = list(map(float, input(\"Enter a multiple value: \").split()))\n",
    "    for k in x2:\n",
    "        tem2 = tem2 * k\n",
    "    print(100/tem2)"
   ]
  },
  {
   "cell_type": "code",
   "execution_count": 6,
   "metadata": {},
   "outputs": [
    {
     "output_type": "error",
     "ename": "NameError",
     "evalue": "name 'arr' is not defined",
     "traceback": [
      "\u001b[1;31m---------------------------------------------------------------------------\u001b[0m",
      "\u001b[1;31mNameError\u001b[0m                                 Traceback (most recent call last)",
      "\u001b[1;32m<ipython-input-6-e6e7d85e9fc1>\u001b[0m in \u001b[0;36m<module>\u001b[1;34m\u001b[0m\n\u001b[0;32m      7\u001b[0m         \u001b[1;32melse\u001b[0m\u001b[1;33m:\u001b[0m\u001b[1;33m\u001b[0m\u001b[1;33m\u001b[0m\u001b[0m\n\u001b[0;32m      8\u001b[0m             \u001b[0mprint\u001b[0m\u001b[1;33m(\u001b[0m\u001b[1;34m\"NO\"\u001b[0m\u001b[1;33m)\u001b[0m\u001b[1;33m\u001b[0m\u001b[1;33m\u001b[0m\u001b[0m\n\u001b[1;32m----> 9\u001b[1;33m \u001b[0mfindNumber\u001b[0m\u001b[1;33m(\u001b[0m\u001b[0marr\u001b[0m\u001b[1;33m,\u001b[0m\u001b[1;36m5\u001b[0m\u001b[1;33m)\u001b[0m\u001b[1;33m\u001b[0m\u001b[1;33m\u001b[0m\u001b[0m\n\u001b[0m",
      "\u001b[1;31mNameError\u001b[0m: name 'arr' is not defined"
     ]
    }
   ],
   "source": [
    "def findNumber(arr, k):\n",
    "    # Write your code here\n",
    "    arr = []\n",
    "    for k in range(1, arr):\n",
    "        inputt = int(input())\n",
    "        arr.append(inputt)\n",
    "        if k == arr:\n",
    "            print(\"YES\")\n",
    "        else:\n",
    "            print(\"NO\")\n",
    "findNumber(arr,5)"
   ]
  },
  {
   "cell_type": "code",
   "execution_count": 7,
   "metadata": {
    "tags": []
   },
   "outputs": [],
   "source": [
    "aray = []\n",
    "testCase = int(input())\n"
   ]
  },
  {
   "cell_type": "code",
   "execution_count": 37,
   "metadata": {},
   "outputs": [
    {
     "output_type": "error",
     "ename": "TypeError",
     "evalue": "object of type 'map' has no len()",
     "traceback": [
      "\u001b[1;31m---------------------------------------------------------------------------\u001b[0m",
      "\u001b[1;31mTypeError\u001b[0m                                 Traceback (most recent call last)",
      "\u001b[1;32m<ipython-input-37-8a8d989ec1a9>\u001b[0m in \u001b[0;36m<module>\u001b[1;34m\u001b[0m\n\u001b[0;32m     25\u001b[0m         \u001b[0mx\u001b[0m \u001b[1;33m=\u001b[0m \u001b[0mint\u001b[0m\u001b[1;33m(\u001b[0m\u001b[0minput\u001b[0m\u001b[1;33m(\u001b[0m\u001b[1;33m)\u001b[0m\u001b[1;33m)\u001b[0m\u001b[1;33m\u001b[0m\u001b[1;33m\u001b[0m\u001b[0m\n\u001b[0;32m     26\u001b[0m \u001b[1;33m\u001b[0m\u001b[0m\n\u001b[1;32m---> 27\u001b[1;33m         \u001b[0mprint\u001b[0m\u001b[1;33m(\u001b[0m\u001b[0msearch\u001b[0m\u001b[1;33m(\u001b[0m\u001b[0marr\u001b[0m\u001b[1;33m,\u001b[0m \u001b[0mx\u001b[0m\u001b[1;33m)\u001b[0m\u001b[1;33m)\u001b[0m\u001b[1;33m\u001b[0m\u001b[1;33m\u001b[0m\u001b[0m\n\u001b[0m\u001b[0;32m     28\u001b[0m \u001b[1;33m\u001b[0m\u001b[0m\n\u001b[0;32m     29\u001b[0m         \u001b[1;31m# The element can also be searched by index method\u001b[0m\u001b[1;33m\u001b[0m\u001b[1;33m\u001b[0m\u001b[1;33m\u001b[0m\u001b[0m\n",
      "\u001b[1;32m<ipython-input-37-8a8d989ec1a9>\u001b[0m in \u001b[0;36msearch\u001b[1;34m(arr, x)\u001b[0m\n\u001b[0;32m      4\u001b[0m \u001b[1;31m# else returns -1\u001b[0m\u001b[1;33m\u001b[0m\u001b[1;33m\u001b[0m\u001b[1;33m\u001b[0m\u001b[0m\n\u001b[0;32m      5\u001b[0m \u001b[1;32mdef\u001b[0m \u001b[0msearch\u001b[0m\u001b[1;33m(\u001b[0m\u001b[0marr\u001b[0m\u001b[1;33m,\u001b[0m \u001b[0mx\u001b[0m\u001b[1;33m)\u001b[0m\u001b[1;33m:\u001b[0m\u001b[1;33m\u001b[0m\u001b[1;33m\u001b[0m\u001b[0m\n\u001b[1;32m----> 6\u001b[1;33m         \u001b[0mn\u001b[0m \u001b[1;33m=\u001b[0m \u001b[0mlen\u001b[0m\u001b[1;33m(\u001b[0m\u001b[0marr\u001b[0m\u001b[1;33m)\u001b[0m\u001b[1;33m\u001b[0m\u001b[1;33m\u001b[0m\u001b[0m\n\u001b[0m\u001b[0;32m      7\u001b[0m         \u001b[1;32mfor\u001b[0m \u001b[0mj\u001b[0m \u001b[1;32min\u001b[0m \u001b[0mrange\u001b[0m\u001b[1;33m(\u001b[0m\u001b[1;36m0\u001b[0m\u001b[1;33m,\u001b[0m\u001b[0mn\u001b[0m\u001b[1;33m)\u001b[0m\u001b[1;33m:\u001b[0m\u001b[1;33m\u001b[0m\u001b[1;33m\u001b[0m\u001b[0m\n\u001b[0;32m      8\u001b[0m                 \u001b[1;32mif\u001b[0m \u001b[1;33m(\u001b[0m\u001b[0mx\u001b[0m \u001b[1;33m==\u001b[0m \u001b[0marr\u001b[0m\u001b[1;33m[\u001b[0m\u001b[0mj\u001b[0m\u001b[1;33m]\u001b[0m\u001b[1;33m)\u001b[0m\u001b[1;33m:\u001b[0m\u001b[1;33m\u001b[0m\u001b[1;33m\u001b[0m\u001b[0m\n",
      "\u001b[1;31mTypeError\u001b[0m: object of type 'map' has no len()"
     ]
    }
   ],
   "source": [
    "# A Sample Python program for beginners with Competitive Programming\n",
    "\n",
    "# Returns index of x in arr if it is present,\n",
    "# else returns -1\n",
    "def search(arr, x):\n",
    "\tn = len(arr)\n",
    "\tfor j in range(0,n):\n",
    "\t\tif (x == arr[j]):\n",
    "\t\t\treturn j\n",
    "\treturn -1\n",
    "\n",
    "# Input number of test cases\n",
    "t = int(input())\n",
    "\n",
    "# One by one run for all input test cases\n",
    "for i in range(0,t):\n",
    "\n",
    "\t# Input the size of the array\n",
    "\tn = int(input())\n",
    "\n",
    "\t# Input the array\n",
    "\tarr = map(int, input().split())\n",
    "\n",
    "\t# Input the element to be searched\n",
    "\tx = int(input())\n",
    "\n",
    "\tprint(search(arr, x))\n",
    "\n",
    "\t# The element can also be searched by index method\n",
    "\t# But you need to handle the exception when element is not found\n",
    "\t# Uncomment the below line to get that working.\n",
    "\t# arr.index(x)\n"
   ]
  },
  {
   "cell_type": "code",
   "execution_count": 36,
   "metadata": {},
   "outputs": [
    {
     "output_type": "execute_result",
     "data": {
      "text/plain": [
       "1"
      ]
     },
     "metadata": {},
     "execution_count": 36
    }
   ],
   "source": [
    "def search(arr, x):\n",
    "\tn = len(arr)\n",
    "\tfor j in range(0,n):\n",
    "\t\tif (x == arr[j]):\n",
    "\t\t\treturn j\n",
    "\treturn -1\n",
    "search([1,2,5], 2)"
   ]
  },
  {
   "cell_type": "code",
   "execution_count": 38,
   "metadata": {},
   "outputs": [
    {
     "output_type": "stream",
     "name": "stdout",
     "text": [
      "1\n",
      "5\n"
     ]
    }
   ],
   "source": [
    "for _ in range(int(input())):\n",
    "    N = int(input())\n",
    "    print(N)"
   ]
  },
  {
   "cell_type": "code",
   "execution_count": 12,
   "metadata": {},
   "outputs": [
    {
     "output_type": "stream",
     "name": "stdout",
     "text": [
      "6 56 2 6 2\n"
     ]
    }
   ],
   "source": [
    "# print list with space-separate value\n",
    "\n",
    "\n",
    "array = []\n",
    "inputt = int(input())\n",
    "for i in range(0, inputt):\n",
    "    inputt2 = int(input())\n",
    "    array.append(inputt2)\n",
    "print(*array)  # the asterisk* will be used for space-separate value"
   ]
  },
  {
   "cell_type": "code",
   "execution_count": 29,
   "metadata": {},
   "outputs": [
    {
     "output_type": "stream",
     "name": "stdout",
     "text": [
      "1 2 3 4 5 "
     ]
    }
   ],
   "source": [
    "# print list with space-separate value\n",
    "\n",
    "L = [1, 2, 3, 4, 5]\n",
    "for x in L:\n",
    "    print(x, end=\" \")\n",
    "print()"
   ]
  },
  {
   "cell_type": "code",
   "execution_count": 12,
   "metadata": {},
   "outputs": [
    {
     "output_type": "stream",
     "name": "stdout",
     "text": [
      "YES\n",
      "NO\n",
      "NO\n"
     ]
    }
   ],
   "source": [
    "''' the first line will contain number of testcases following testcases five space-separated number will be enter ex: 2\n",
    "4 2 1 1 1\n",
    "4 2 1 3 1'''\n",
    "\n",
    "testCase = int(input())\n",
    "for i in range(0, testCase):\n",
    "    x, y, xr, yr, D = map(int, input(\"\").split())\n",
    "    x1 = round(x/xr, 2)\n",
    "    y1 = round(y/yr, 2)\n",
    "    if x1 and y1 >= D:\n",
    "        print(\"YES\")\n",
    "    else:\n",
    "        print(\"NO\") \n"
   ]
  },
  {
   "cell_type": "code",
   "execution_count": 24,
   "metadata": {},
   "outputs": [
    {
     "output_type": "stream",
     "name": "stdout",
     "text": [
      "7\n",
      "13\n"
     ]
    }
   ],
   "source": [
    "testCase = int(input())\n",
    "for i in range(0, testCase):\n",
    "  enter_string = input()\n",
    "  new_sett = len(set(enter_string))\n",
    "  print(new_sett)"
   ]
  },
  {
   "cell_type": "code",
   "execution_count": 31,
   "metadata": {},
   "outputs": [
    {
     "output_type": "execute_result",
     "data": {
      "text/plain": [
       "{'b', 'e', 'p', 'r', 's', 't', 'y'}"
      ]
     },
     "metadata": {},
     "execution_count": 31
    }
   ],
   "source": [
    "def birthcakecandles(candles):\n",
    "    candles = list(int(input()))\n",
    "    dummy = 0\n",
    "    for i in candles:"
   ]
  },
  {
   "cell_type": "code",
   "execution_count": 61,
   "metadata": {},
   "outputs": [
    {
     "output_type": "stream",
     "name": "stdout",
     "text": [
      "2\n"
     ]
    }
   ],
   "source": [
    "lst = []\n",
    "index = 0\n",
    "for _ in range(int(input())):\n",
    "    N = int(input())\n",
    "    lst.append(N)\n",
    "    \n",
    "print(lst.count(max(lst)))\n"
   ]
  },
  {
   "cell_type": "code",
   "execution_count": 65,
   "metadata": {},
   "outputs": [
    {
     "output_type": "stream",
     "name": "stdout",
     "text": [
      "3\n"
     ]
    }
   ],
   "source": [
    "def birthdayCakeCandles(candles):\n",
    "    # Write your code here\n",
    "    candles = []\n",
    "    index = 0\n",
    "    for _ in range(int(input())):\n",
    "        N = int(input())\n",
    "        candles.append(N)\n",
    "    \n",
    "    print(candles.count(max(candles)))\n",
    "\n",
    "birthdayCakeCandles(candles)"
   ]
  },
  {
   "cell_type": "code",
   "execution_count": 19,
   "metadata": {},
   "outputs": [
    {
     "output_type": "stream",
     "name": "stdout",
     "text": [
      "0 1 1 1 1 "
     ]
    }
   ],
   "source": [
    "n, a, b = map(int, input().split())\n",
    "c = n - a\n",
    "\n",
    "\n",
    "\n",
    "if a <= n:\n",
    "    for _ in range(a):\n",
    "        print(int('0'), end = ' ')\n",
    "    for _ in range(c):\n",
    "        print(int('1'), end = ' ')\n"
   ]
  },
  {
   "cell_type": "code",
   "execution_count": 1,
   "metadata": {},
   "outputs": [
    {
     "output_type": "stream",
     "name": "stdout",
     "text": [
      "Case #1: Case #2: "
     ]
    }
   ],
   "source": [
    "## Merge two sorted array\n",
    "## first line of input contains T testcases \n",
    "\n",
    "\n",
    "for i in range(int(input())):\n",
    "\tprint('Case #'+str(i+1),end=': ')\n",
    "    for in  map(int, input().split())\n",
    "\n"
   ]
  },
  {
   "cell_type": "code",
   "execution_count": 42,
   "metadata": {
    "tags": []
   },
   "outputs": [
    {
     "output_type": "stream",
     "name": "stdout",
     "text": [
      "\n",
      " 1 2 3\n",
      " 5 6 9"
     ]
    }
   ],
   "source": [
    "\n",
    "\n",
    "n, m = map(int, input().split())\n",
    "for _ in range(n):\n",
    "    m1 = list(map(int, input().split()))\n",
    "    if len(m1) == m:\n",
    "        print('\\n',*m1, end='')\n"
   ]
  },
  {
   "cell_type": "code",
   "execution_count": 26,
   "metadata": {},
   "outputs": [
    {
     "output_type": "error",
     "ename": "ValueError",
     "evalue": "invalid literal for int() with base 10: '6 -4 3 -9 0 4 1'",
     "traceback": [
      "\u001b[1;31m---------------------------------------------------------------------------\u001b[0m",
      "\u001b[1;31mValueError\u001b[0m                                Traceback (most recent call last)",
      "\u001b[1;32m<ipython-input-26-4bce9fda92c1>\u001b[0m in \u001b[0;36m<module>\u001b[1;34m\u001b[0m\n\u001b[0;32m      1\u001b[0m \u001b[1;31m# print(*m1)\u001b[0m\u001b[1;33m\u001b[0m\u001b[1;33m\u001b[0m\u001b[1;33m\u001b[0m\u001b[0m\n\u001b[0;32m      2\u001b[0m \u001b[1;31m# len(m1)\u001b[0m\u001b[1;33m\u001b[0m\u001b[1;33m\u001b[0m\u001b[1;33m\u001b[0m\u001b[0m\n\u001b[1;32m----> 3\u001b[1;33m \u001b[0mtest\u001b[0m \u001b[1;33m=\u001b[0m \u001b[0mint\u001b[0m\u001b[1;33m(\u001b[0m\u001b[0minput\u001b[0m\u001b[1;33m(\u001b[0m\u001b[1;33m)\u001b[0m\u001b[1;33m)\u001b[0m\u001b[1;33m\u001b[0m\u001b[1;33m\u001b[0m\u001b[0m\n\u001b[0m\u001b[0;32m      4\u001b[0m \u001b[0mm1\u001b[0m \u001b[1;33m=\u001b[0m \u001b[0mlist\u001b[0m\u001b[1;33m(\u001b[0m\u001b[0mmap\u001b[0m\u001b[1;33m(\u001b[0m\u001b[0mint\u001b[0m\u001b[1;33m,\u001b[0m \u001b[0minput\u001b[0m\u001b[1;33m(\u001b[0m\u001b[1;33m)\u001b[0m\u001b[1;33m.\u001b[0m\u001b[0msplit\u001b[0m\u001b[1;33m(\u001b[0m\u001b[1;33m)\u001b[0m\u001b[1;33m)\u001b[0m\u001b[1;33m)\u001b[0m\u001b[1;33m\u001b[0m\u001b[1;33m\u001b[0m\u001b[0m\n\u001b[0;32m      5\u001b[0m \u001b[1;33m\u001b[0m\u001b[0m\n",
      "\u001b[1;31mValueError\u001b[0m: invalid literal for int() with base 10: '6 -4 3 -9 0 4 1'"
     ]
    }
   ],
   "source": [
    "# print(*m1)\n",
    "# len(m1)\n",
    "test = int(input())\n",
    "m1 = list(map(int, input().split()))\n",
    "\n",
    "\n",
    "if len(m1) == test:\n",
    "    print(m1)\n",
    "else:\n",
    "    print('write correct number of values')\n",
    "count = 0\n",
    "count1 = 0\n",
    "count2 = 0\n",
    "for i in m1:\n",
    "    \n",
    "\n",
    "    if i > 0:\n",
    "        count += 1\n",
    "    elif i < 0:\n",
    "        count1 += 1\n",
    "    elif i == 0:\n",
    "        count2 += 1\n",
    "print('%.6f' % (count/ len(m1)))\n",
    "print('%.6f' % (count1/ len(m1)))\n",
    "print('%.6f' % (count2/ len(m1)))\n",
    "\n",
    "\n"
   ]
  },
  {
   "cell_type": "code",
   "execution_count": 84,
   "metadata": {
    "tags": []
   },
   "outputs": [
    {
     "output_type": "stream",
     "name": "stdout",
     "text": [
      "1 5 9 13 17 21 25 29 33 37 41 45 49 53 57 61 65 69 73 77 81 85 89 93 97 101 105 109 113 117 121 125 129 133 137 141 145 149 153 157 161 165 169 173 177 181 185 189 193 197 201 205 209 213 217 221 225 229 233 237 241 245 249 253 257 261 265 269 273 277 281 285 289 293 297 301 305 309 313 317 321 325 329 333 337 341 345 349 353 357 361 365 369 373 377 381 385 389 393 397 401 405 409 413 417 421 425 429 433 437 441 445 449 453 457 461 465 469 473 477 481 485 489 493 497 501 505 509 513 517 521 525 529 533 537 541 545 549 553 557 561 565 569 573 577 581 585 589 593 597 601 605 609 613 617 621 625 629 633 637 641 645 649 653 657 661 665 669 673 677 681 685 689 693 697 701 705 709 713 717 721 725 729 733 737 741 745 749 753 757 761 765 769 773 777 781 785 789 793 797 801 805 809 813 817 821 825 829 833 837 841 845 849 853 857 861 865 869 873 877 881 885 889 893 897 901 905 909 913 917 921 925 929 933 937 941 945 949 953 957 961 965 969 973 977 981 985 989 993 997 "
     ]
    }
   ],
   "source": [
    "# give_input = int(input())\n",
    "x = 1000\n",
    "n = []\n",
    "for i in range(0, x):\n",
    "    if i % 2 == 1 :\n",
    "        n.append(i)\n",
    "for j in range(0, x//2):\n",
    "    k = 0\n",
    "    if j % 2 == 0:\n",
    "        print(n[j], end=' ')\n",
    "        # pass\n",
    "        # x_x = n[j] + n[j+1]\n",
    "# print(x_x, end=' ')\n",
    "# print(n, end=' ')\n",
    "# len(n)"
   ]
  },
  {
   "cell_type": "code",
   "execution_count": 1,
   "metadata": {},
   "outputs": [
    {
     "output_type": "stream",
     "name": "stdout",
     "text": [
      "91\n"
     ]
    }
   ],
   "source": [
    "## Lauvra, artist \n",
    "\n",
    "lst = [0, 1, 6]\n",
    "raw = 3\n",
    "n = 5\n",
    "k = 2\n",
    "y = 4\n",
    "kk = 0\n",
    "kk = y + n\n",
    "while raw <= 1000:\n",
    "    j = 0\n",
    "    j = lst[k] + kk\n",
    "    lst.append(j)\n",
    "    k += 1\n",
    "    kk += 4\n",
    "    # n += 1\n",
    "    raw += 1\n",
    "raw_input = int(input())\n",
    "if raw_input >= 0:\n",
    "    print(lst[raw_input])\n",
    "else:\n",
    "    print('invalid')"
   ]
  },
  {
   "cell_type": "code",
   "execution_count": 59,
   "metadata": {},
   "outputs": [
    {
     "output_type": "stream",
     "name": "stdout",
     "text": [
      "31\n"
     ]
    }
   ],
   "source": [
    "\n",
    "def simpleArraySum(ar):\n",
    "    # Write your code here\n",
    "    index = 0\n",
    "    sum_ar = 0\n",
    "    for _ in range(ar_count):\n",
    "        sum_ar = sum_ar + ar[index]\n",
    "        index += 1\n",
    "        if index == ar_count:\n",
    "            return  sum_ar\n",
    "ar_count = int(input().strip())\n",
    "\n",
    "ar = list(map(int, input().rstrip().split()))\n",
    "\n",
    "result = simpleArraySum(ar)\n",
    "print(result)\n",
    "\n",
    "# fptr.write(str(result) + '\\n')\n",
    "\n",
    "# fptr.close()"
   ]
  },
  {
   "cell_type": "code",
   "execution_count": 6,
   "metadata": {},
   "outputs": [
    {
     "output_type": "stream",
     "name": "stdout",
     "text": [
      "1 1\n"
     ]
    }
   ],
   "source": [
    "## type input as 1 3 2, and 3 2 2 output will be 1 1\n",
    "\n",
    "def compareTriplets(a, b):\n",
    "    # Write your code here\n",
    "    index = 0\n",
    "    count_a = 0\n",
    "    count_b = 0\n",
    "    while index <= 2:\n",
    "            if a[index] > b[index]:\n",
    "                count_a += 1\n",
    "            elif a[index] < b[index]:\n",
    "                count_b += 1\n",
    "            elif a[index] == b[index]:\n",
    "                pass\n",
    "            index += 1\n",
    "    print(count_a, count_b)\n",
    "\n",
    "a = list(map(int, input().rstrip().split()))\n",
    "\n",
    "b = list(map(int, input().rstrip().split()))\n",
    "res = compareTriplets(a, b)\n",
    "# print(res)"
   ]
  },
  {
   "cell_type": "code",
   "execution_count": 1,
   "metadata": {},
   "outputs": [
    {
     "output_type": "stream",
     "name": "stdout",
     "text": [
      "2 1\n"
     ]
    }
   ],
   "source": [
    "index  = 0\n",
    "a = [17, 28, 30]\n",
    "b = [99, 16, 8]\n",
    "count_a = 0\n",
    "count_b = 0\n",
    "while index <= 2:\n",
    "        if a[index] > b[index]:\n",
    "            count_a += 1\n",
    "        elif a[index] < b[index]:\n",
    "            count_b += 1\n",
    "        elif a[index] == b[index]:\n",
    "            pass\n",
    "        index += 1\n",
    "print(count_a, count_b)"
   ]
  },
  {
   "cell_type": "code",
   "execution_count": 1,
   "metadata": {},
   "outputs": [
    {
     "output_type": "stream",
     "name": "stdout",
     "text": [
      "[1, 4, 9]\n[1, 4, 9]\n"
     ]
    }
   ],
   "source": [
    "## absolute difference of diagonal sum \n",
    "numberOfrows = int(input())\n",
    "ind_i = 0\n",
    "ind_j = 0\n",
    "arr = []\n",
    "ls = []\n",
    "ls1 = []\n",
    "for _ in range(numberOfrows):\n",
    "    arr.append(list(map(int, input().rstrip().split())))\n",
    "while ind_i <= 2 and ind_j<= 2:\n",
    "    resl = arr[ind_i][ind_j]\n",
    "    ls.append(resl)\n",
    "    ind_j += 1\n",
    "    for _ in range(ind_j):\n",
    "        ind_j -= 1\n",
    "        resl1 = arr[ind_i][ind_j]\n",
    "        ls1.append(resl1)\n",
    "        ind_i += 1\n",
    "    sum(ls)\n",
    "print((ls))\n",
    "print(ls1)"
   ]
  },
  {
   "cell_type": "code",
   "execution_count": 24,
   "metadata": {},
   "outputs": [
    {
     "output_type": "stream",
     "name": "stdout",
     "text": [
      "1 2 3\n"
     ]
    },
    {
     "output_type": "error",
     "ename": "IndexError",
     "evalue": "list index out of range",
     "traceback": [
      "\u001b[1;31m---------------------------------------------------------------------------\u001b[0m",
      "\u001b[1;31mIndexError\u001b[0m                                Traceback (most recent call last)",
      "\u001b[1;32m<ipython-input-24-b4e1440b8876>\u001b[0m in \u001b[0;36m<module>\u001b[1;34m\u001b[0m\n\u001b[0;32m      6\u001b[0m     \u001b[0marr\u001b[0m \u001b[1;33m=\u001b[0m \u001b[0mlist\u001b[0m\u001b[1;33m(\u001b[0m\u001b[0mmap\u001b[0m\u001b[1;33m(\u001b[0m\u001b[0mint\u001b[0m\u001b[1;33m,\u001b[0m \u001b[0minput\u001b[0m\u001b[1;33m(\u001b[0m\u001b[1;33m)\u001b[0m\u001b[1;33m.\u001b[0m\u001b[0msplit\u001b[0m\u001b[1;33m(\u001b[0m\u001b[1;33m)\u001b[0m\u001b[1;33m)\u001b[0m\u001b[1;33m)\u001b[0m\u001b[1;33m\u001b[0m\u001b[1;33m\u001b[0m\u001b[0m\n\u001b[0;32m      7\u001b[0m     \u001b[0mprint\u001b[0m\u001b[1;33m(\u001b[0m\u001b[1;33m*\u001b[0m\u001b[0marr\u001b[0m\u001b[1;33m)\u001b[0m\u001b[1;33m\u001b[0m\u001b[1;33m\u001b[0m\u001b[0m\n\u001b[1;32m----> 8\u001b[1;33m     \u001b[0mprint\u001b[0m\u001b[1;33m(\u001b[0m\u001b[0marr\u001b[0m\u001b[1;33m[\u001b[0m\u001b[0mind\u001b[0m\u001b[1;33m]\u001b[0m \u001b[1;33m+\u001b[0m \u001b[0marr\u001b[0m\u001b[1;33m[\u001b[0m\u001b[0mind\u001b[0m\u001b[1;33m+\u001b[0m\u001b[1;36m4\u001b[0m\u001b[1;33m]\u001b[0m \u001b[1;33m+\u001b[0m\u001b[0marr\u001b[0m\u001b[1;33m[\u001b[0m\u001b[0mind\u001b[0m\u001b[1;33m+\u001b[0m\u001b[1;36m8\u001b[0m\u001b[1;33m]\u001b[0m\u001b[1;33m)\u001b[0m\u001b[1;33m\u001b[0m\u001b[1;33m\u001b[0m\u001b[0m\n\u001b[0m",
      "\u001b[1;31mIndexError\u001b[0m: list index out of range"
     ]
    }
   ],
   "source": [
    "numberOfrows = int(input())\n",
    "ind = 0\n",
    "for _ in range(numberOfrows):\n",
    "\n",
    "\n",
    "    arr = list(map(int, input().split()))\n",
    "    print(*arr)\n",
    "    print(arr[ind] + arr[ind+4] +arr[ind+8])"
   ]
  },
  {
   "cell_type": "code",
   "execution_count": 18,
   "metadata": {},
   "outputs": [
    {
     "output_type": "execute_result",
     "data": {
      "text/plain": [
       "10"
      ]
     },
     "metadata": {},
     "execution_count": 18
    }
   ],
   "source": [
    "ls = [1, 2, 3, 4]\n",
    "sum(ls)"
   ]
  },
  {
   "cell_type": "code",
   "execution_count": 11,
   "metadata": {},
   "outputs": [
    {
     "output_type": "stream",
     "name": "stdout",
     "text": [
      "[565]\n"
     ]
    }
   ],
   "source": [
    "numberOfWheels = int(input())\n",
    "for _ in range(numberOfrows):\n",
    "    m1 = list(map(int, input().split()))\n",
    "print(m1)\n",
    "123\\\\\n",
    "2349.89\\\\\n",
    "87e34\\\\\n",
    "++3\n",
    "+7564\\\\\n",
    "-82\\\\\n",
    "263*93\n",
    "abkds\n",
    "76bs\n"
   ]
  },
  {
   "cell_type": "code",
   "execution_count": 21,
   "metadata": {},
   "outputs": [
    {
     "output_type": "stream",
     "name": "stdout",
     "text": [
      "25 24 23 22 21 "
     ]
    }
   ],
   "source": [
    "inter = int(input())\n",
    "kk = inter*inter\n",
    "# for k in range(inter):\n",
    "    print(kk, end=' ')\n",
    "    kk -= 1\n",
    "    for i in range(1, kk+1):\n",
    "        pass\n",
    "    "
   ]
  }
 ]
}